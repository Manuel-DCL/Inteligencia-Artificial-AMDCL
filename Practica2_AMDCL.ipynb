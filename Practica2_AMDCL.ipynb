{
  "nbformat": 4,
  "nbformat_minor": 0,
  "metadata": {
    "colab": {
      "provenance": [],
      "authorship_tag": "ABX9TyMFCtR2VmwK3rgbX5V+CW8W",
      "include_colab_link": true
    },
    "kernelspec": {
      "name": "python3",
      "display_name": "Python 3"
    },
    "language_info": {
      "name": "python"
    }
  },
  "cells": [
    {
      "cell_type": "markdown",
      "metadata": {
        "id": "view-in-github",
        "colab_type": "text"
      },
      "source": [
        "<a href=\"https://colab.research.google.com/github/Manuel-DCL/Inteligencia-Artificial-AMDCL/blob/main/Practica2_AMDCL.ipynb\" target=\"_parent\"><img src=\"https://colab.research.google.com/assets/colab-badge.svg\" alt=\"Open In Colab\"/></a>"
      ]
    },
    {
      "cell_type": "markdown",
      "source": [
        "#**PRACTICA 2 - Ejercicios en python**\n",
        "Alberto Manuel Del Carpio López"
      ],
      "metadata": {
        "id": "s5uZp2vQfC3R"
      }
    },
    {
      "cell_type": "markdown",
      "source": [
        "Un taller automotriz necesita llevar un control de su inventario de repuestos. Crea un programa que permita agregar, eliminar y consultar la cantidad de repuestos disponibles, así como realizar una compra cuando el inventario de un repuesto está bajo."
      ],
      "metadata": {
        "id": "1l1GsJYYsD7w"
      }
    },
    {
      "cell_type": "markdown",
      "source": [
        "- Agregar, eliminar, consultar (Cantidad de repuestos)\n",
        "- Realizar una compra : siempre y cuando el  inventario de un repuesto sea bajo"
      ],
      "metadata": {
        "id": "YIzN5jfmsKtj"
      }
    },
    {
      "cell_type": "code",
      "execution_count": 51,
      "metadata": {
        "colab": {
          "base_uri": "https://localhost:8080/"
        },
        "id": "nEXSGQ2or5Eh",
        "outputId": "518cbdf2-d7d7-4f18-b0b3-62b6cdda29f1"
      },
      "outputs": [
        {
          "name": "stdout",
          "output_type": "stream",
          "text": [
            "\n",
            "------------------------------------------------------------------------------------------\n",
            "El inventario de  motores  se encuentra bajo se realizara la siguiente compra: \n",
            "| Articulo: motores | Existencia:  2 | Compra:  15 |\n",
            "\n",
            "\n",
            "------------------------------------------------------------------------------------------\n",
            "El inventario de  puertas  se encuentra bajo se realizara la siguiente compra: \n",
            "| Articulo: puertas | Existencia:  4 | Compra:  27 |\n",
            "\n",
            "\n",
            "\n",
            "\n",
            "-----------------------------------------------------------\n",
            "Seleccione la opción deseada <1-4>: \n",
            "-----------------------------------------------------------\n",
            "1. Consultar\n",
            "2. Agregar\n",
            "3. Borrar\n",
            "4. Salir\n",
            "-----------------------------------------------------------\n",
            "2\n",
            "-----------------------------------------------------------\n",
            "Introduce el nombre del producto a agregar\n",
            "Productos disponibles:  ['llantas', 'motores', 'amortiguadores', 'puertas']\n",
            "llantas\n",
            "Introduce la cantidad de repuestos a agregar\n",
            "4\n",
            "\n",
            "\n",
            "\n",
            "-----------------------------------------------------------\n",
            "Seleccione la opción deseada <1-4>: \n",
            "-----------------------------------------------------------\n",
            "1. Consultar\n",
            "2. Agregar\n",
            "3. Borrar\n",
            "4. Salir\n",
            "-----------------------------------------------------------\n",
            "3\n",
            "-----------------------------------------------------------\n",
            "Introduce el nombre del producto a borrar\n",
            "Productos disponibles:  ['llantas', 'motores', 'amortiguadores', 'puertas']\n",
            "motores\n",
            "Introduce la cantidad de repuestos a borrar\n",
            "10\n",
            "\n",
            "\n",
            "\n",
            "-----------------------------------------------------------\n",
            "Seleccione la opción deseada <1-4>: \n",
            "-----------------------------------------------------------\n",
            "1. Consultar\n",
            "2. Agregar\n",
            "3. Borrar\n",
            "4. Salir\n",
            "-----------------------------------------------------------\n",
            "1\n",
            "-----------------------------------------------------------\n",
            "llantas | Cantidad:  84\n",
            "motores | Cantidad:  7\n",
            "amortiguadores | Cantidad:  104\n",
            "puertas | Cantidad:  31\n",
            "\n",
            "\n",
            "\n",
            "-----------------------------------------------------------\n",
            "Seleccione la opción deseada <1-4>: \n",
            "-----------------------------------------------------------\n",
            "1. Consultar\n",
            "2. Agregar\n",
            "3. Borrar\n",
            "4. Salir\n",
            "-----------------------------------------------------------\n",
            "4\n"
          ]
        }
      ],
      "source": [
        "#Inicializacion de listas\n",
        "producto = [\"llantas\", \"motores\", \"amortiguadores\", \"puertas\"] #Productos\n",
        "compras = [30,15,60,27] #Cantidad de compras en caso de inventario bajo\n",
        "repuestos = [80,2,104,4] #Cantidad de repuestos en existencia\n",
        "minrepuestos = [10, 5, 20, 8] #Cantidad minima de repuestos\n",
        "\n",
        "#Función consultar\n",
        "def Cons(producto, repuestos):\n",
        "  print('-----------------------------------------------------------')\n",
        "  for number in producto:\n",
        "    print(number, '| Cantidad: ' ,repuestos[producto.index(number)])\n",
        "\n",
        "#Función de agregar\n",
        "def Add(producto, repuestos):\n",
        "  print('-----------------------------------------------------------')\n",
        "  print('Introduce el nombre del producto a agregar')\n",
        "  print('Productos disponibles: ', producto)\n",
        "  aux = input()\n",
        "  if aux in producto:\n",
        "    print('Introduce la cantidad de repuestos a agregar')\n",
        "    repuestos[producto.index(aux)] += int(input())\n",
        "  else:\n",
        "    print('El producto no existe')\n",
        "\n",
        "#Función de borrar\n",
        "def Del(producto, repuestos):\n",
        "  print('-----------------------------------------------------------')\n",
        "  print('Introduce el nombre del producto a borrar')\n",
        "  print('Productos disponibles: ', producto)\n",
        "  aux = input()\n",
        "  if aux in producto:\n",
        "    print('Introduce la cantidad de repuestos a borrar')\n",
        "    amount = int(input())\n",
        "    #Verifica si hay repuestos suficientes\n",
        "    if repuestos[producto.index(aux)] > amount:\n",
        "      repuestos[producto.index(aux)] -= amount\n",
        "    else:\n",
        "      print('No hay suficientes repuestos')\n",
        "  else:\n",
        "    print('El producto no existe')\n",
        "\n",
        "#Función de menu\n",
        "def opt():\n",
        "  print('\\n\\n\\n-----------------------------------------------------------')\n",
        "  print('Seleccione la opción deseada <1-4>: ')\n",
        "  print('-----------------------------------------------------------')\n",
        "  print('1. Consultar')\n",
        "  print('2. Agregar')\n",
        "  print('3. Borrar')\n",
        "  print('4. Salir')\n",
        "  print('-----------------------------------------------------------')\n",
        "  return int(input())\n",
        "\n",
        "#Función de selección\n",
        "def sel(producto, repuestos, minrepuestos, compras):\n",
        "  while True:\n",
        "    rev(producto, repuestos, minrepuestos, compras)\n",
        "    op = opt()\n",
        "    if op == 1:\n",
        "      Cons(producto, repuestos)\n",
        "    elif op == 2:\n",
        "      Add(producto, repuestos)\n",
        "    elif op == 3:\n",
        "      Del(producto, repuestos)\n",
        "    elif op == 4:\n",
        "      break\n",
        "\n",
        "#----------------------------Compras-----------------------------\n",
        "\n",
        "#Función de revisión\n",
        "def rev(producto, repuestos, minrepuestos, compras):\n",
        "  for number in repuestos:\n",
        "    aux = repuestos.index(number)\n",
        "    if number < minrepuestos[aux]:\n",
        "      print('\\n------------------------------------------------------------------------------------------')\n",
        "      print('El inventario de ', producto[aux], ' se encuentra bajo se realizara la siguiente compra: ')\n",
        "      print('| Articulo:', producto[aux],'| Existencia: ', repuestos[aux], '| Compra: ',compras[aux],'|\\n')\n",
        "      buy(aux, repuestos, compras)\n",
        "\n",
        "#Función de compra\n",
        "def buy(ind, repuestos, compras):\n",
        "    repuestos[ind] += compras[ind]\n",
        "\n",
        "\n",
        "#Ejecución del programa\n",
        "sel(producto, repuestos, minrepuestos, compras)\n",
        "\n",
        "\n"
      ]
    },
    {
      "cell_type": "code",
      "source": [],
      "metadata": {
        "id": "fe-ZL_IcsfqP"
      },
      "execution_count": null,
      "outputs": []
    }
  ]
}