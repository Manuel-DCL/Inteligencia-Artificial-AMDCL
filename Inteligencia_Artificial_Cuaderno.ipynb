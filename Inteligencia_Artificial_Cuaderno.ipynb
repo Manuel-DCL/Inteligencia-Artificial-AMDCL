{
  "nbformat": 4,
  "nbformat_minor": 0,
  "metadata": {
    "colab": {
      "provenance": [],
      "toc_visible": true,
      "authorship_tag": "ABX9TyNNtHBLMmc4IE6vmckaI8Ch",
      "include_colab_link": true
    },
    "kernelspec": {
      "name": "python3",
      "display_name": "Python 3"
    },
    "language_info": {
      "name": "python"
    }
  },
  "cells": [
    {
      "cell_type": "markdown",
      "metadata": {
        "id": "view-in-github",
        "colab_type": "text"
      },
      "source": [
        "<a href=\"https://colab.research.google.com/github/Manuel-DCL/Inteligencia-Artificial-AMDCL/blob/main/Inteligencia_Artificial_Cuaderno.ipynb\" target=\"_parent\"><img src=\"https://colab.research.google.com/assets/colab-badge.svg\" alt=\"Open In Colab\"/></a>"
      ]
    },
    {
      "cell_type": "markdown",
      "source": [
        "# Evaluación Diagnóstica"
      ],
      "metadata": {
        "id": "_G6Zyu8N2UXs"
      }
    },
    {
      "cell_type": "markdown",
      "source": [
        "1.- ¿Cómo se declara una lista en python,\n",
        "2.- ¿Qué función se usa para conocer el número de elemento en una lista?"
      ],
      "metadata": {
        "id": "yVxB-_lWq0au"
      }
    },
    {
      "cell_type": "code",
      "execution_count": null,
      "metadata": {
        "id": "dOESv2mLpbsK"
      },
      "outputs": [],
      "source": [
        "my_list = [1, 2, 3]\n",
        "elementos = len(my_list)"
      ]
    },
    {
      "cell_type": "code",
      "source": [
        "print(elementos)"
      ],
      "metadata": {
        "colab": {
          "base_uri": "https://localhost:8080/"
        },
        "id": "DlTA2wampokk",
        "outputId": "ccd35444-0139-4a93-dbb0-81dfbafba9dd"
      },
      "execution_count": null,
      "outputs": [
        {
          "output_type": "stream",
          "name": "stdout",
          "text": [
            "3\n"
          ]
        }
      ]
    },
    {
      "cell_type": "markdown",
      "source": [
        "3.-¿Qué resultado obtendremos al ejecutar el siguiente código?"
      ],
      "metadata": {
        "id": "76lKv5gGqwSF"
      }
    },
    {
      "cell_type": "code",
      "source": [
        "a = [1, 2, 3, 4, 5]\n",
        "print(a[::-1])"
      ],
      "metadata": {
        "colab": {
          "base_uri": "https://localhost:8080/"
        },
        "id": "OJwwvtOEq4rs",
        "outputId": "d5cac248-a0ed-4f34-ea68-7447754662bc"
      },
      "execution_count": null,
      "outputs": [
        {
          "output_type": "stream",
          "name": "stdout",
          "text": [
            "[5, 4, 3, 2, 1]\n"
          ]
        }
      ]
    },
    {
      "cell_type": "markdown",
      "source": [
        "4.-¿Cuál es el resultado de la siguiente expresión?\n"
      ],
      "metadata": {
        "id": "km1wnTE-rW5p"
      }
    },
    {
      "cell_type": "code",
      "source": [
        "print(3*\"5\"+2)"
      ],
      "metadata": {
        "colab": {
          "base_uri": "https://localhost:8080/",
          "height": 141
        },
        "collapsed": true,
        "id": "6pvswqxwrZBh",
        "outputId": "9eaeb597-c434-4187-f327-82ff0cc09cc2"
      },
      "execution_count": null,
      "outputs": [
        {
          "output_type": "error",
          "ename": "TypeError",
          "evalue": "can only concatenate str (not \"int\") to str",
          "traceback": [
            "\u001b[0;31m---------------------------------------------------------------------------\u001b[0m",
            "\u001b[0;31mTypeError\u001b[0m                                 Traceback (most recent call last)",
            "\u001b[0;32m<ipython-input-6-ecf93d8422a1>\u001b[0m in \u001b[0;36m<cell line: 1>\u001b[0;34m()\u001b[0m\n\u001b[0;32m----> 1\u001b[0;31m \u001b[0mprint\u001b[0m\u001b[0;34m(\u001b[0m\u001b[0;36m3\u001b[0m\u001b[0;34m*\u001b[0m\u001b[0;34m\"5\"\u001b[0m\u001b[0;34m+\u001b[0m\u001b[0;36m2\u001b[0m\u001b[0;34m)\u001b[0m\u001b[0;34m\u001b[0m\u001b[0;34m\u001b[0m\u001b[0m\n\u001b[0m",
            "\u001b[0;31mTypeError\u001b[0m: can only concatenate str (not \"int\") to str"
          ]
        }
      ]
    },
    {
      "cell_type": "markdown",
      "source": [
        "5.-¿Qué salida generará el siguiente código?"
      ],
      "metadata": {
        "id": "k3YNTrPSrkKx"
      }
    },
    {
      "cell_type": "code",
      "source": [
        "def foo(x, y =[]):\n",
        "  y.append(x)\n",
        "  return y\n",
        "\n",
        "print(foo(1))\n",
        "print(foo(2,[]))\n",
        "print(foo(3))"
      ],
      "metadata": {
        "colab": {
          "base_uri": "https://localhost:8080/"
        },
        "id": "uajJ56njrmPG",
        "outputId": "7f05fa60-019b-4c2e-babe-d2f25ec47071"
      },
      "execution_count": null,
      "outputs": [
        {
          "output_type": "stream",
          "name": "stdout",
          "text": [
            "[1]\n",
            "[2]\n",
            "[1, 3]\n"
          ]
        }
      ]
    },
    {
      "cell_type": "markdown",
      "source": [
        "6.-¿Qué resultado obtendremos al ejecutar el siguiente código?"
      ],
      "metadata": {
        "id": "Q7XkE_37s0Sn"
      }
    },
    {
      "cell_type": "code",
      "source": [
        "def multiply_list(numbers, factor):\n",
        "  result =[]\n",
        "  for number in numbers:\n",
        "    result.append(number*factor)\n",
        "  return result\n",
        "\n",
        "my_list = [1, 2, 3]\n",
        "output = multiply_list(my_list, 2)\n",
        "print(output)"
      ],
      "metadata": {
        "colab": {
          "base_uri": "https://localhost:8080/"
        },
        "id": "G-m3d6zbs3IN",
        "outputId": "7d738f6a-9470-4e55-ca79-d03640d440ca"
      },
      "execution_count": null,
      "outputs": [
        {
          "output_type": "stream",
          "name": "stdout",
          "text": [
            "[2, 4, 6]\n"
          ]
        }
      ]
    },
    {
      "cell_type": "markdown",
      "source": [
        "\n",
        "\n",
        "```\n",
        "# Tiene formato de código\n",
        "```\n",
        "\n",
        "# PRÁCTICA EN PYTHON"
      ],
      "metadata": {
        "id": "ieKXq7pH1O8T"
      }
    },
    {
      "cell_type": "markdown",
      "source": [
        "Clasificación de una lista con numeros pares e impares"
      ],
      "metadata": {
        "id": "th0aMIvj1Z9p"
      }
    },
    {
      "cell_type": "code",
      "source": [
        "#Declaracion de variables\n",
        "numeros = [10, 25, 36, 98, 77, 34, 89, 58]\n",
        "pares = []\n",
        "impares = []\n",
        "\n",
        "#print(type(numeros[0]))"
      ],
      "metadata": {
        "id": "loZzpLFQ1ilh"
      },
      "execution_count": null,
      "outputs": []
    },
    {
      "cell_type": "code",
      "source": [
        "# Ciclo for para recorrer la lista\n",
        "for numero in numeros:\n",
        "  if numero % 2 == 0:\n",
        "    #pares[0] = numeros[0]; java, C, C# \"0 es el valor de i\"\n",
        "    pares.append(numero)\n",
        "  else:\n",
        "    impares.append(numero)"
      ],
      "metadata": {
        "id": "fuW-1S_d2xmY"
      },
      "execution_count": null,
      "outputs": []
    },
    {
      "cell_type": "code",
      "source": [
        "#Impresion del resultado\n",
        "print(\"Pares: \", pares, \" total:\", len(pares))\n",
        "print(\"impares: \",impares, \" total:\", len(impares))"
      ],
      "metadata": {
        "colab": {
          "base_uri": "https://localhost:8080/"
        },
        "id": "d7xEc-CS4GL7",
        "outputId": "2fcfcad2-d34c-4ec6-8981-f8e99f03ec7e"
      },
      "execution_count": null,
      "outputs": [
        {
          "output_type": "stream",
          "name": "stdout",
          "text": [
            "Pares:  [10, 36, 98, 34, 58]  total: 5\n",
            "impares:  [25, 77, 89]  total: 3\n"
          ]
        }
      ]
    },
    {
      "cell_type": "code",
      "source": [
        "#Funcion para sumar numeros de listas\n",
        "\n",
        "def suma(lista):\n",
        "  suma = 0\n",
        "  for numero in lista:\n",
        "    suma+=numero\n",
        "  return suma\n",
        "\n",
        "#Impresion de las sumas pares e impares\n",
        "print(\"Suma de pares\", suma(pares))\n",
        "print(\"Suma de pares\", suma(impares))"
      ],
      "metadata": {
        "colab": {
          "base_uri": "https://localhost:8080/"
        },
        "id": "fFu5VqbQ6Ovm",
        "outputId": "310872c8-8643-447a-c4c8-9321ea5b37d8"
      },
      "execution_count": null,
      "outputs": [
        {
          "output_type": "stream",
          "name": "stdout",
          "text": [
            "Suma de pares 236\n",
            "Suma de pares 191\n"
          ]
        }
      ]
    },
    {
      "cell_type": "markdown",
      "source": [
        "# Ejercicio en clase"
      ],
      "metadata": {
        "id": "XVC-W0_ldxQm"
      }
    },
    {
      "cell_type": "markdown",
      "source": [
        "#Neurona aprendizaje compuerta AND\n",
        "00->0\n",
        "01->0\n",
        "10->0\n",
        "11->1"
      ],
      "metadata": {
        "id": "n5iBkTluecEe"
      }
    },
    {
      "cell_type": "code",
      "source": [
        "x=[0,1]\n",
        "w=[10,2]\n",
        "s=0\n",
        "for i in range(0,2):\n",
        "  s=s+x[i]*w[i]\n",
        "print(s)\n",
        "\n",
        "y=1 if s>0 else 0\n",
        "print(x[0],'AND',x[1],'=',y)"
      ],
      "metadata": {
        "colab": {
          "base_uri": "https://localhost:8080/"
        },
        "id": "VaTXUDaNe815",
        "outputId": "d3d3a1d5-4e7b-471f-a337-b7fbdde0c808"
      },
      "execution_count": 1,
      "outputs": [
        {
          "output_type": "stream",
          "name": "stdout",
          "text": [
            "2\n",
            "0 AND 1 = 1\n"
          ]
        }
      ]
    },
    {
      "cell_type": "markdown",
      "source": [
        "# PRACTICA 2 - Ejecicios en python\n",
        "Alberto Manuel Del Carpio López"
      ],
      "metadata": {
        "id": "VjNMh3ywdpBG"
      }
    },
    {
      "cell_type": "markdown",
      "source": [
        "Un taller automotriz necesita llevar un control de su inventario de repuestos. Crea un programa que permita agregar, eliminar y consultar la cantidad de repuestos disponibles, así como realizar una compra cuando el inventario de un repuesto está bajo.\n",
        "\n",
        "- Agregar, eliminar, consultar (Cantidad de repuestos)\n",
        "- Realizar una compra : siempre y cuando el inventario de un repuesto sea bajo"
      ],
      "metadata": {
        "id": "zGLtMoMbfVB_"
      }
    },
    {
      "cell_type": "code",
      "source": [
        "#Inicializacion de listas\n",
        "producto = [\"llantas\", \"motores\", \"amortiguadores\", \"puertas\"] #Productos\n",
        "compras = [30,15,60,27] #Cantidad de compras en caso de inventario bajo\n",
        "repuestos = [80,2,104,4] #Cantidad de repuestos en existencia\n",
        "minrepuestos = [10, 5, 20, 8] #Cantidad minima de repuestos\n",
        "\n",
        "#Función consultar\n",
        "def Cons(producto, repuestos):\n",
        "  print('-----------------------------------------------------------')\n",
        "  for number in producto:\n",
        "    print(number, '| Cantidad: ' ,repuestos[producto.index(number)])\n",
        "\n",
        "#Función de agregar\n",
        "def Add(producto, repuestos):\n",
        "  print('-----------------------------------------------------------')\n",
        "  print('Introduce el nombre del producto a agregar')\n",
        "  print('Productos disponibles: ', producto)\n",
        "  aux = input()\n",
        "  if aux in producto:\n",
        "    print('Introduce la cantidad de repuestos a agregar')\n",
        "    repuestos[producto.index(aux)] += int(input())\n",
        "  else:\n",
        "    print('El producto no existe')\n",
        "\n",
        "#Función de borrar\n",
        "def Del(producto, repuestos):\n",
        "  print('-----------------------------------------------------------')\n",
        "  print('Introduce el nombre del producto a borrar')\n",
        "  print('Productos disponibles: ', producto)\n",
        "  aux = input()\n",
        "  if aux in producto:\n",
        "    print('Introduce la cantidad de repuestos a borrar')\n",
        "    amount = int(input())\n",
        "    #Verifica si hay repuestos suficientes\n",
        "    if repuestos[producto.index(aux)] > amount:\n",
        "      repuestos[producto.index(aux)] -= amount\n",
        "    else:\n",
        "      print('No hay suficientes repuestos')\n",
        "  else:\n",
        "    print('El producto no existe')\n",
        "\n",
        "#Función de menu\n",
        "def opt():\n",
        "  print('\\n\\n\\n-----------------------------------------------------------')\n",
        "  print('Seleccione la opción deseada <1-4>: ')\n",
        "  print('-----------------------------------------------------------')\n",
        "  print('1. Consultar')\n",
        "  print('2. Agregar')\n",
        "  print('3. Borrar')\n",
        "  print('4. Salir')\n",
        "  print('-----------------------------------------------------------')\n",
        "  return int(input())\n",
        "\n",
        "#Función de selección\n",
        "def sel(producto, repuestos, minrepuestos, compras):\n",
        "  while True:\n",
        "    rev(producto, repuestos, minrepuestos, compras)\n",
        "    op = opt()\n",
        "    if op == 1:\n",
        "      Cons(producto, repuestos)\n",
        "    elif op == 2:\n",
        "      Add(producto, repuestos)\n",
        "    elif op == 3:\n",
        "      Del(producto, repuestos)\n",
        "    elif op == 4:\n",
        "      break\n",
        "\n",
        "#----------------------------Compras-----------------------------\n",
        "\n",
        "#Función de revisión\n",
        "def rev(producto, repuestos, minrepuestos, compras):\n",
        "  for number in repuestos:\n",
        "    aux = repuestos.index(number)\n",
        "    if number < minrepuestos[aux]:\n",
        "      print('\\n------------------------------------------------------------------------------------------')\n",
        "      print('El inventario de ', producto[aux], ' se encuentra bajo se realizara la siguiente compra: ')\n",
        "      print('| Articulo:', producto[aux],'| Existencia: ', repuestos[aux], '| Compra: ',compras[aux],'|\\n')\n",
        "      buy(aux, repuestos, compras)\n",
        "\n",
        "#Función de compra\n",
        "def buy(ind, repuestos, compras):\n",
        "    repuestos[ind] += compras[ind]\n",
        "\n",
        "\n",
        "#Ejecución del programa\n",
        "sel(producto, repuestos, minrepuestos, compras)\n"
      ],
      "metadata": {
        "colab": {
          "base_uri": "https://localhost:8080/"
        },
        "id": "LZVpeIzjfjQL",
        "outputId": "a9ce40c7-a98d-4499-a88b-4e0dbc411143"
      },
      "execution_count": 2,
      "outputs": [
        {
          "name": "stdout",
          "output_type": "stream",
          "text": [
            "\n",
            "------------------------------------------------------------------------------------------\n",
            "El inventario de  motores  se encuentra bajo se realizara la siguiente compra: \n",
            "| Articulo: motores | Existencia:  2 | Compra:  15 |\n",
            "\n",
            "\n",
            "------------------------------------------------------------------------------------------\n",
            "El inventario de  puertas  se encuentra bajo se realizara la siguiente compra: \n",
            "| Articulo: puertas | Existencia:  4 | Compra:  27 |\n",
            "\n",
            "\n",
            "\n",
            "\n",
            "-----------------------------------------------------------\n",
            "Seleccione la opción deseada <1-4>: \n",
            "-----------------------------------------------------------\n",
            "1. Consultar\n",
            "2. Agregar\n",
            "3. Borrar\n",
            "4. Salir\n",
            "-----------------------------------------------------------\n",
            "1\n",
            "-----------------------------------------------------------\n",
            "llantas | Cantidad:  80\n",
            "motores | Cantidad:  17\n",
            "amortiguadores | Cantidad:  104\n",
            "puertas | Cantidad:  31\n",
            "\n",
            "\n",
            "\n",
            "-----------------------------------------------------------\n",
            "Seleccione la opción deseada <1-4>: \n",
            "-----------------------------------------------------------\n",
            "1. Consultar\n",
            "2. Agregar\n",
            "3. Borrar\n",
            "4. Salir\n",
            "-----------------------------------------------------------\n",
            "2\n",
            "-----------------------------------------------------------\n",
            "Introduce el nombre del producto a agregar\n",
            "Productos disponibles:  ['llantas', 'motores', 'amortiguadores', 'puertas']\n",
            "llantas\n",
            "Introduce la cantidad de repuestos a agregar\n",
            "4\n",
            "\n",
            "\n",
            "\n",
            "-----------------------------------------------------------\n",
            "Seleccione la opción deseada <1-4>: \n",
            "-----------------------------------------------------------\n",
            "1. Consultar\n",
            "2. Agregar\n",
            "3. Borrar\n",
            "4. Salir\n",
            "-----------------------------------------------------------\n",
            "1\n",
            "-----------------------------------------------------------\n",
            "llantas | Cantidad:  84\n",
            "motores | Cantidad:  17\n",
            "amortiguadores | Cantidad:  104\n",
            "puertas | Cantidad:  31\n",
            "\n",
            "\n",
            "\n",
            "-----------------------------------------------------------\n",
            "Seleccione la opción deseada <1-4>: \n",
            "-----------------------------------------------------------\n",
            "1. Consultar\n",
            "2. Agregar\n",
            "3. Borrar\n",
            "4. Salir\n",
            "-----------------------------------------------------------\n",
            "3\n",
            "-----------------------------------------------------------\n",
            "Introduce el nombre del producto a borrar\n",
            "Productos disponibles:  ['llantas', 'motores', 'amortiguadores', 'puertas']\n",
            "motores\n",
            "Introduce la cantidad de repuestos a borrar\n",
            "16\n",
            "\n",
            "------------------------------------------------------------------------------------------\n",
            "El inventario de  motores  se encuentra bajo se realizara la siguiente compra: \n",
            "| Articulo: motores | Existencia:  1 | Compra:  15 |\n",
            "\n",
            "\n",
            "\n",
            "\n",
            "-----------------------------------------------------------\n",
            "Seleccione la opción deseada <1-4>: \n",
            "-----------------------------------------------------------\n",
            "1. Consultar\n",
            "2. Agregar\n",
            "3. Borrar\n",
            "4. Salir\n",
            "-----------------------------------------------------------\n",
            "4\n"
          ]
        }
      ]
    },
    {
      "cell_type": "markdown",
      "source": [
        "Ejercicio 2 - Una empresa de servicios a terceros ofrece proyectos de consultoría y debe llevar el control de horas trabajadas por sus empleados en diferentes proyectos. Crea un programa que calcule las horas totales trabajadas por cada empleado en varios proyectos y su costo total en función de la tarifa por hora.\n",
        "\n",
        "- Calcular horas totales trabajadas por cada empleado en varios proyectos.\n",
        "- Calcular el costo total (tarifa por hora)"
      ],
      "metadata": {
        "id": "2sygUq_lgAfe"
      }
    },
    {
      "cell_type": "code",
      "source": [
        "empleados = ['Ana', 'Pedro', 'Luis', 'Marta']\n",
        "horas_acumuladas = [0,0,0,0]\n",
        "no_proyectos = [0,0,0,0]\n",
        "pago_h = 40\n",
        "\n",
        "#Funcion de agregar proyectos\n",
        "def add(empleados, horas_acumuladas, no_proyectos):\n",
        "  print('-----------------------------------------------------------')\n",
        "  print('Introduce el nombre del proyecto')\n",
        "  nombre = input()#Posible uso para un listado de proyectos\n",
        "  print('-----------------------------------------------------------')\n",
        "  print('Introduce la cantidad de horas')\n",
        "  horas = int(input())\n",
        "  print('-----------------------------------------------------------')\n",
        "  print('Introduce el nombre del empleado')\n",
        "  print('Empleados disponibles: ', empleados)\n",
        "  empleado = input()\n",
        "  print('-----------------------------------------------------------')\n",
        "  print('¿Los datos siguientes son correctos? <1-2>')\n",
        "  print('| Proyecto: ', nombre, '| Horas: ', horas, '| Empleado: ',empleado)\n",
        "  print('-----------------------------------------------------------')\n",
        "  print('1. Si')\n",
        "  print('2. No')\n",
        "  print('-----------------------------------------------------------')\n",
        "  op = int(input())\n",
        "  if op == 1:\n",
        "    if empleado in empleados:\n",
        "      aux = empleados.index(empleado)\n",
        "      horas_acumuladas[aux] += horas\n",
        "      no_proyectos[aux] += 1\n",
        "    else:\n",
        "      print('El empleado no existe')\n",
        "  else:\n",
        "    add(empleados, horas_acumuladas, no_proyectos)\n",
        "\n",
        "#Función de chequeo de status\n",
        "def status(empleados, horas_acumuladas, no_proyectos, pago_h):\n",
        "  print('-----------------------------------------------------------')\n",
        "  print('Introduce el nombre del empleado')\n",
        "  print('Empleados disponibles: ', empleados, 'Escriba la palabra: (Completo)  para ver todos')\n",
        "  empleado = input()\n",
        "\n",
        "  if empleado in empleados:\n",
        "    aux = empleados.index(empleado)\n",
        "    print('------------------------------------------------------------------------------')\n",
        "    print('| Empleado: ', empleado, '| Proyectos: ', no_proyectos[aux],  '| Horas: ', horas_acumuladas[aux], '| Salario: $', horas_acumuladas[aux]*pago_h)\n",
        "    print('------------------------------------------------------------------------------')\n",
        "  else:\n",
        "    if empleado == 'Completo':\n",
        "      for i in range(len(empleados)):\n",
        "        print('------------------------------------------------------------------------------')\n",
        "        print('| Empleado: ', empleados[i], '| Proyectos: ', no_proyectos[i],  '| Horas: ', horas_acumuladas[i], '| Salario: $', horas_acumuladas[i]*pago_h)\n",
        "        print('------------------------------------------------------------------------------')\n",
        "    else:\n",
        "      print('-----------------------------------------------------------')\n",
        "      print('El empleado no existe')\n",
        "3\n",
        "\n",
        "#Menu de opciones\n",
        "def menu():\n",
        "  print('\\n\\n\\n-----------------------------------------------------------')\n",
        "  print('Seleccione la opción deseada <1-3>: ')\n",
        "  print('-----------------------------------------------------------')\n",
        "  print('1. Agregar proyecto')\n",
        "  print('2. Status laboral')\n",
        "  print('3. Salir')\n",
        "  print('-----------------------------------------------------------')\n",
        "\n",
        "#Seleccion de opciones\n",
        "def sel(empleados, horas_acumuladas, no_proyectos, pago_h):\n",
        "  while True:\n",
        "    menu()\n",
        "    op = int(input())\n",
        "    if op == 1:\n",
        "      add(empleados, horas_acumuladas, no_proyectos)\n",
        "    elif op == 2:\n",
        "      status(empleados, horas_acumuladas, no_proyectos, pago_h)\n",
        "    elif op == 3:\n",
        "      break\n",
        "    else:\n",
        "      print('Opcion incorrecta')\n",
        "\n",
        "sel(empleados, horas_acumuladas, no_proyectos, pago_h)"
      ],
      "metadata": {
        "colab": {
          "base_uri": "https://localhost:8080/"
        },
        "id": "d4ylL1vvlFyq",
        "outputId": "97a709e8-9481-4ac7-fed6-0b1ca5891019"
      },
      "execution_count": 10,
      "outputs": [
        {
          "name": "stdout",
          "output_type": "stream",
          "text": [
            "\n",
            "\n",
            "\n",
            "-----------------------------------------------------------\n",
            "Seleccione la opción deseada <1-3>: \n",
            "-----------------------------------------------------------\n",
            "1. Agregar proyecto\n",
            "2. Status laboral\n",
            "3. Salir\n",
            "-----------------------------------------------------------\n",
            "1\n",
            "-----------------------------------------------------------\n",
            "Introduce el nombre del proyecto\n",
            "Apar\n",
            "-----------------------------------------------------------\n",
            "Introduce la cantidad de horas\n",
            "6\n",
            "-----------------------------------------------------------\n",
            "Introduce el nombre del empleado\n",
            "Empleados disponibles:  ['Ana', 'Pedro', 'Luis', 'Marta']\n",
            "Ana\n",
            "-----------------------------------------------------------\n",
            "¿Los datos siguientes son correctos? <1-2>\n",
            "| Proyecto:  Apar | Horas:  6 | Empleado:  Ana\n",
            "-----------------------------------------------------------\n",
            "1. Si\n",
            "2. No\n",
            "-----------------------------------------------------------\n",
            "1\n",
            "\n",
            "\n",
            "\n",
            "-----------------------------------------------------------\n",
            "Seleccione la opción deseada <1-3>: \n",
            "-----------------------------------------------------------\n",
            "1. Agregar proyecto\n",
            "2. Status laboral\n",
            "3. Salir\n",
            "-----------------------------------------------------------\n",
            "1\n",
            "-----------------------------------------------------------\n",
            "Introduce el nombre del proyecto\n",
            "Ecu\n",
            "-----------------------------------------------------------\n",
            "Introduce la cantidad de horas\n",
            "2\n",
            "-----------------------------------------------------------\n",
            "Introduce el nombre del empleado\n",
            "Empleados disponibles:  ['Ana', 'Pedro', 'Luis', 'Marta']\n",
            "Pedro\n",
            "-----------------------------------------------------------\n",
            "¿Los datos siguientes son correctos? <1-2>\n",
            "| Proyecto:  Ecu | Horas:  2 | Empleado:  Pedro\n",
            "-----------------------------------------------------------\n",
            "1. Si\n",
            "2. No\n",
            "-----------------------------------------------------------\n",
            "1\n",
            "\n",
            "\n",
            "\n",
            "-----------------------------------------------------------\n",
            "Seleccione la opción deseada <1-3>: \n",
            "-----------------------------------------------------------\n",
            "1. Agregar proyecto\n",
            "2. Status laboral\n",
            "3. Salir\n",
            "-----------------------------------------------------------\n",
            "1\n",
            "-----------------------------------------------------------\n",
            "Introduce el nombre del proyecto\n",
            "Apar\n",
            "-----------------------------------------------------------\n",
            "Introduce la cantidad de horas\n",
            "4\n",
            "-----------------------------------------------------------\n",
            "Introduce el nombre del empleado\n",
            "Empleados disponibles:  ['Ana', 'Pedro', 'Luis', 'Marta']\n",
            "Ana\n",
            "-----------------------------------------------------------\n",
            "¿Los datos siguientes son correctos? <1-2>\n",
            "| Proyecto:  Apar | Horas:  4 | Empleado:  Ana\n",
            "-----------------------------------------------------------\n",
            "1. Si\n",
            "2. No\n",
            "-----------------------------------------------------------\n",
            "2\n",
            "-----------------------------------------------------------\n",
            "Introduce el nombre del proyecto\n",
            "Apar\n",
            "-----------------------------------------------------------\n",
            "Introduce la cantidad de horas\n",
            "4\n",
            "-----------------------------------------------------------\n",
            "Introduce el nombre del empleado\n",
            "Empleados disponibles:  ['Ana', 'Pedro', 'Luis', 'Marta']\n",
            "Marta\n",
            "-----------------------------------------------------------\n",
            "¿Los datos siguientes son correctos? <1-2>\n",
            "| Proyecto:  Apar | Horas:  4 | Empleado:  Marta\n",
            "-----------------------------------------------------------\n",
            "1. Si\n",
            "2. No\n",
            "-----------------------------------------------------------\n",
            "1\n",
            "\n",
            "\n",
            "\n",
            "-----------------------------------------------------------\n",
            "Seleccione la opción deseada <1-3>: \n",
            "-----------------------------------------------------------\n",
            "1. Agregar proyecto\n",
            "2. Status laboral\n",
            "3. Salir\n",
            "-----------------------------------------------------------\n",
            "2\n",
            "-----------------------------------------------------------\n",
            "Introduce el nombre del empleado\n",
            "Empleados disponibles:  ['Ana', 'Pedro', 'Luis', 'Marta'] Escriba la palabra: (Completo)  para ver todos\n",
            "Pedro\n",
            "------------------------------------------------------------------------------\n",
            "| Empleado:  Pedro | Proyectos:  1 | Horas:  2 | Salario: $ 80\n",
            "------------------------------------------------------------------------------\n",
            "\n",
            "\n",
            "\n",
            "-----------------------------------------------------------\n",
            "Seleccione la opción deseada <1-3>: \n",
            "-----------------------------------------------------------\n",
            "1. Agregar proyecto\n",
            "2. Status laboral\n",
            "3. Salir\n",
            "-----------------------------------------------------------\n",
            "2\n",
            "-----------------------------------------------------------\n",
            "Introduce el nombre del empleado\n",
            "Empleados disponibles:  ['Ana', 'Pedro', 'Luis', 'Marta'] Escriba la palabra: (Completo)  para ver todos\n",
            "Completo\n",
            "------------------------------------------------------------------------------\n",
            "| Empleado:  Ana | Proyectos:  1 | Horas:  6 | Salario: $ 240\n",
            "------------------------------------------------------------------------------\n",
            "------------------------------------------------------------------------------\n",
            "| Empleado:  Pedro | Proyectos:  1 | Horas:  2 | Salario: $ 80\n",
            "------------------------------------------------------------------------------\n",
            "------------------------------------------------------------------------------\n",
            "| Empleado:  Luis | Proyectos:  0 | Horas:  0 | Salario: $ 0\n",
            "------------------------------------------------------------------------------\n",
            "------------------------------------------------------------------------------\n",
            "| Empleado:  Marta | Proyectos:  1 | Horas:  4 | Salario: $ 160\n",
            "------------------------------------------------------------------------------\n",
            "\n",
            "\n",
            "\n",
            "-----------------------------------------------------------\n",
            "Seleccione la opción deseada <1-3>: \n",
            "-----------------------------------------------------------\n",
            "1. Agregar proyecto\n",
            "2. Status laboral\n",
            "3. Salir\n",
            "-----------------------------------------------------------\n",
            "3\n"
          ]
        }
      ]
    }
  ]
}