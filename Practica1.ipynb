{
  "nbformat": 4,
  "nbformat_minor": 0,
  "metadata": {
    "colab": {
      "provenance": [],
      "toc_visible": true,
      "authorship_tag": "ABX9TyNn6ugc3x6CZyZbY442j7pC",
      "include_colab_link": true
    },
    "kernelspec": {
      "name": "python3",
      "display_name": "Python 3"
    },
    "language_info": {
      "name": "python"
    }
  },
  "cells": [
    {
      "cell_type": "markdown",
      "metadata": {
        "id": "view-in-github",
        "colab_type": "text"
      },
      "source": [
        "<a href=\"https://colab.research.google.com/github/Manuel-DCL/Inteligencia-Artificial-AMDCL/blob/main/Practica1.ipynb\" target=\"_parent\"><img src=\"https://colab.research.google.com/assets/colab-badge.svg\" alt=\"Open In Colab\"/></a>"
      ]
    },
    {
      "cell_type": "markdown",
      "source": [
        "# Evaluación Diagnóstica"
      ],
      "metadata": {
        "id": "_G6Zyu8N2UXs"
      }
    },
    {
      "cell_type": "markdown",
      "source": [
        "1.- ¿Cómo se declara una lista en python,\n",
        "2.- ¿Qué función se usa para conocer el número de elemento en una lista?"
      ],
      "metadata": {
        "id": "yVxB-_lWq0au"
      }
    },
    {
      "cell_type": "code",
      "execution_count": null,
      "metadata": {
        "id": "dOESv2mLpbsK"
      },
      "outputs": [],
      "source": [
        "my_list = [1, 2, 3]\n",
        "elementos = len(my_list)"
      ]
    },
    {
      "cell_type": "code",
      "source": [
        "print(elementos)"
      ],
      "metadata": {
        "colab": {
          "base_uri": "https://localhost:8080/"
        },
        "id": "DlTA2wampokk",
        "outputId": "ccd35444-0139-4a93-dbb0-81dfbafba9dd"
      },
      "execution_count": null,
      "outputs": [
        {
          "output_type": "stream",
          "name": "stdout",
          "text": [
            "3\n"
          ]
        }
      ]
    },
    {
      "cell_type": "markdown",
      "source": [
        "3.-¿Qué resultado obtendremos al ejecutar el siguiente código?"
      ],
      "metadata": {
        "id": "76lKv5gGqwSF"
      }
    },
    {
      "cell_type": "code",
      "source": [
        "a = [1, 2, 3, 4, 5]\n",
        "print(a[::-1])"
      ],
      "metadata": {
        "colab": {
          "base_uri": "https://localhost:8080/"
        },
        "id": "OJwwvtOEq4rs",
        "outputId": "d5cac248-a0ed-4f34-ea68-7447754662bc"
      },
      "execution_count": null,
      "outputs": [
        {
          "output_type": "stream",
          "name": "stdout",
          "text": [
            "[5, 4, 3, 2, 1]\n"
          ]
        }
      ]
    },
    {
      "cell_type": "markdown",
      "source": [
        "4.-¿Cuál es el resultado de la siguiente expresión?\n"
      ],
      "metadata": {
        "id": "km1wnTE-rW5p"
      }
    },
    {
      "cell_type": "code",
      "source": [
        "print(3*\"5\"+2)"
      ],
      "metadata": {
        "colab": {
          "base_uri": "https://localhost:8080/",
          "height": 141
        },
        "collapsed": true,
        "id": "6pvswqxwrZBh",
        "outputId": "9eaeb597-c434-4187-f327-82ff0cc09cc2"
      },
      "execution_count": null,
      "outputs": [
        {
          "output_type": "error",
          "ename": "TypeError",
          "evalue": "can only concatenate str (not \"int\") to str",
          "traceback": [
            "\u001b[0;31m---------------------------------------------------------------------------\u001b[0m",
            "\u001b[0;31mTypeError\u001b[0m                                 Traceback (most recent call last)",
            "\u001b[0;32m<ipython-input-6-ecf93d8422a1>\u001b[0m in \u001b[0;36m<cell line: 1>\u001b[0;34m()\u001b[0m\n\u001b[0;32m----> 1\u001b[0;31m \u001b[0mprint\u001b[0m\u001b[0;34m(\u001b[0m\u001b[0;36m3\u001b[0m\u001b[0;34m*\u001b[0m\u001b[0;34m\"5\"\u001b[0m\u001b[0;34m+\u001b[0m\u001b[0;36m2\u001b[0m\u001b[0;34m)\u001b[0m\u001b[0;34m\u001b[0m\u001b[0;34m\u001b[0m\u001b[0m\n\u001b[0m",
            "\u001b[0;31mTypeError\u001b[0m: can only concatenate str (not \"int\") to str"
          ]
        }
      ]
    },
    {
      "cell_type": "markdown",
      "source": [
        "5.-¿Qué salida generará el siguiente código?"
      ],
      "metadata": {
        "id": "k3YNTrPSrkKx"
      }
    },
    {
      "cell_type": "code",
      "source": [
        "def foo(x, y =[]):\n",
        "  y.append(x)\n",
        "  return y\n",
        "\n",
        "print(foo(1))\n",
        "print(foo(2,[]))\n",
        "print(foo(3))"
      ],
      "metadata": {
        "colab": {
          "base_uri": "https://localhost:8080/"
        },
        "id": "uajJ56njrmPG",
        "outputId": "7f05fa60-019b-4c2e-babe-d2f25ec47071"
      },
      "execution_count": null,
      "outputs": [
        {
          "output_type": "stream",
          "name": "stdout",
          "text": [
            "[1]\n",
            "[2]\n",
            "[1, 3]\n"
          ]
        }
      ]
    },
    {
      "cell_type": "markdown",
      "source": [
        "6.-¿Qué resultado obtendremos al ejecutar el siguiente código?"
      ],
      "metadata": {
        "id": "Q7XkE_37s0Sn"
      }
    },
    {
      "cell_type": "code",
      "source": [
        "def multiply_list(numbers, factor):\n",
        "  result =[]\n",
        "  for number in numbers:\n",
        "    result.append(number*factor)\n",
        "  return result\n",
        "\n",
        "my_list = [1, 2, 3]\n",
        "output = multiply_list(my_list, 2)\n",
        "print(output)"
      ],
      "metadata": {
        "colab": {
          "base_uri": "https://localhost:8080/"
        },
        "id": "G-m3d6zbs3IN",
        "outputId": "7d738f6a-9470-4e55-ca79-d03640d440ca"
      },
      "execution_count": null,
      "outputs": [
        {
          "output_type": "stream",
          "name": "stdout",
          "text": [
            "[2, 4, 6]\n"
          ]
        }
      ]
    },
    {
      "cell_type": "markdown",
      "source": [
        "\n",
        "\n",
        "```\n",
        "# Tiene formato de código\n",
        "```\n",
        "\n",
        "# PRÁCTICA EN PYTHON"
      ],
      "metadata": {
        "id": "ieKXq7pH1O8T"
      }
    },
    {
      "cell_type": "markdown",
      "source": [
        "Clasificación de una lista con numeros pares e impares"
      ],
      "metadata": {
        "id": "th0aMIvj1Z9p"
      }
    },
    {
      "cell_type": "code",
      "source": [
        "#Declaracion de variables\n",
        "numeros = [10, 25, 36, 98, 77, 34, 89, 58]\n",
        "pares = []\n",
        "impares = []\n",
        "\n",
        "#print(type(numeros[0]))"
      ],
      "metadata": {
        "id": "loZzpLFQ1ilh"
      },
      "execution_count": 7,
      "outputs": []
    },
    {
      "cell_type": "code",
      "source": [
        "# Ciclo for para recorrer la lista\n",
        "for numero in numeros:\n",
        "  if numero % 2 == 0:\n",
        "    #pares[0] = numeros[0]; java, C, C# \"0 es el valor de i\"\n",
        "    pares.append(numero)\n",
        "  else:\n",
        "    impares.append(numero)"
      ],
      "metadata": {
        "id": "fuW-1S_d2xmY"
      },
      "execution_count": 8,
      "outputs": []
    },
    {
      "cell_type": "code",
      "source": [
        "#Impresion del resultado\n",
        "print(\"Pares: \", pares, \" total:\", len(pares))\n",
        "print(\"impares: \",impares, \" total:\", len(impares))"
      ],
      "metadata": {
        "colab": {
          "base_uri": "https://localhost:8080/"
        },
        "id": "d7xEc-CS4GL7",
        "outputId": "2fcfcad2-d34c-4ec6-8981-f8e99f03ec7e"
      },
      "execution_count": 10,
      "outputs": [
        {
          "output_type": "stream",
          "name": "stdout",
          "text": [
            "Pares:  [10, 36, 98, 34, 58]  total: 5\n",
            "impares:  [25, 77, 89]  total: 3\n"
          ]
        }
      ]
    },
    {
      "cell_type": "code",
      "source": [
        "#Funcion para sumar numeros de listas\n",
        "\n",
        "def suma(lista):\n",
        "  suma = 0\n",
        "  for numero in lista:\n",
        "    suma+=numero\n",
        "  return suma\n",
        "\n",
        "#Impresion de las sumas pares e impares\n",
        "print(\"Suma de pares\", suma(pares))\n",
        "print(\"Suma de pares\", suma(impares))"
      ],
      "metadata": {
        "colab": {
          "base_uri": "https://localhost:8080/"
        },
        "id": "fFu5VqbQ6Ovm",
        "outputId": "310872c8-8643-447a-c4c8-9321ea5b37d8"
      },
      "execution_count": 13,
      "outputs": [
        {
          "output_type": "stream",
          "name": "stdout",
          "text": [
            "Suma de pares 236\n",
            "Suma de pares 191\n"
          ]
        }
      ]
    }
  ]
}