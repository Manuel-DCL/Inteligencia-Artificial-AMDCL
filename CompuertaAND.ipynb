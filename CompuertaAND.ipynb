{
  "nbformat": 4,
  "nbformat_minor": 0,
  "metadata": {
    "colab": {
      "provenance": [],
      "authorship_tag": "ABX9TyP4UraX1iAwMUoIN56zPoay",
      "include_colab_link": true
    },
    "kernelspec": {
      "name": "python3",
      "display_name": "Python 3"
    },
    "language_info": {
      "name": "python"
    }
  },
  "cells": [
    {
      "cell_type": "markdown",
      "metadata": {
        "id": "view-in-github",
        "colab_type": "text"
      },
      "source": [
        "<a href=\"https://colab.research.google.com/github/Manuel-DCL/Inteligencia-Artificial-AMDCL/blob/main/CompuertaAND.ipynb\" target=\"_parent\"><img src=\"https://colab.research.google.com/assets/colab-badge.svg\" alt=\"Open In Colab\"/></a>"
      ]
    },
    {
      "cell_type": "code",
      "execution_count": 4,
      "metadata": {
        "colab": {
          "base_uri": "https://localhost:8080/"
        },
        "id": "1GtZsUlPOejO",
        "outputId": "b79b764d-ed0a-46bc-f402-268e2d4db54b"
      },
      "outputs": [
        {
          "output_type": "stream",
          "name": "stdout",
          "text": [
            "0 AND 1 = 0\n"
          ]
        }
      ],
      "source": [
        "x=[0,1] #x1 y x2\n",
        "w=[1,1] #Este es el peso necesario para la compuerta AND\n",
        "s=-1 #Numero fijo de compuerta AND\n",
        "for i in range(0,2):\n",
        "  #Los print me permitieron visualizar el funcionamiento de la compuerta\n",
        "  #print((s+x[i]*w[i]),\"=\",s,\"+\", x[i], \"*\", w[i]) #tester\n",
        "  s=s+x[i]*w[i]\n",
        "  #print(s)\n",
        "\n",
        "y=1 if s>0 else 0\n",
        "print(x[0],'AND',x[1],'=',y)"
      ]
    }
  ]
}